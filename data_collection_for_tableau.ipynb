{
  "nbformat": 4,
  "nbformat_minor": 0,
  "metadata": {
    "colab": {
      "provenance": []
    },
    "kernelspec": {
      "name": "python3",
      "display_name": "Python 3"
    },
    "language_info": {
      "name": "python"
    }
  },
  "cells": [
    {
      "cell_type": "markdown",
      "source": [
        "# **Data Collection for Tableau**\n",
        "The top 15 companies from FTSE-100 was selected from the London Stock Exchange and the data was merged together into one CSV file so that it can be used for visualizations in tableau. The historic stock price data was already downloaded and stored in the google drive from Yahoo Finance."
      ],
      "metadata": {
        "id": "vuvnuq-3B0E2"
      }
    },
    {
      "cell_type": "code",
      "source": [
        "#importing necessary libraries\n",
        "import pandas as pd\n",
        "import os\n",
        "from io import StringIO\n",
        "from statsmodels.tsa.seasonal import seasonal_decompose\n"
      ],
      "metadata": {
        "id": "2idZ-eYBB2bu"
      },
      "execution_count": null,
      "outputs": []
    },
    {
      "cell_type": "code",
      "execution_count": null,
      "metadata": {
        "colab": {
          "base_uri": "https://localhost:8080/"
        },
        "id": "PkPJRcHNBg6R",
        "outputId": "fb97bad7-1345-4b34-dc59-436514f8cf64"
      },
      "outputs": [
        {
          "output_type": "stream",
          "name": "stdout",
          "text": [
            "Drive already mounted at /content/drive; to attempt to forcibly remount, call drive.mount(\"/content/drive\", force_remount=True).\n",
            "The files in the directory are  : \n",
            "AAF.L.csv\n",
            "AUTO.L.csv\n",
            "BA.L.csv\n",
            "BDEV.L.csv\n",
            "BARC.L.csv\n",
            "BP.csv\n",
            "BME.L.csv\n",
            "AV.L.csv\n",
            "AZN.csv\n",
            "ABF.L.csv\n",
            "AHT.L.csv\n",
            "ANTO.L.csv\n",
            "AAL.L.csv\n",
            "ADM.L.csv\n",
            "III.L.csv\n"
          ]
        }
      ],
      "source": [
        "#Setting the path of the directory where the 15 csv files are stored\n",
        "from google.colab import drive\n",
        "drive.mount('/content/drive')\n",
        "\n",
        "#Setting the path to the folder where the 15 company data is available\n",
        "directory = '/content/drive/My Drive/Final Project/FTSECOMPANIES/'\n",
        "\n",
        "print('The files in the directory are  : ', )\n",
        "files = os.listdir(directory)\n",
        "for file in files:\n",
        "    print(file)\n"
      ]
    },
    {
      "cell_type": "code",
      "source": [
        "\n",
        "#Function definition for merge_data\n",
        "def merge_data(directory):\n",
        "\n",
        "  #Creating a new dataframe which will store the data for 15 comnpanies\n",
        "  top15df = pd.DataFrame()\n",
        "\n",
        "\n",
        "  #Adding extra columns which are the technical indiactors for the company\n",
        "  for filename in os.listdir(directory):\n",
        "      if filename.endswith('.csv'):\n",
        "          with open(os.path.join(directory, filename)) as f:\n",
        "              inputdata = StringIO(f.read())\n",
        "              df = pd.DataFrame()\n",
        "              df = pd.read_csv(inputdata, sep =\",\")\n",
        "              df['COMPANY CODE'] = os.path.splitext(filename)[0]\n",
        "              df['MA_50'] = df['Close'].rolling(window=50, min_periods=1).mean()\n",
        "              df['MA_200'] = df['Close'].rolling(window=200, min_periods=1).mean()\n",
        "              df['Daily Returns'] = df['Close'].pct_change()\n",
        "              df['Volatility'] = df['Daily Returns'].rolling(window=50).std()\n",
        "              top15df = pd.concat([top15df,df])\n",
        "\n",
        "\n",
        "  #Assigning the company names to each company using the below dictionary and lambda function\n",
        "  companynames = {'AAF.L' : 'Airtel Africa PLC', 'AAL.L' : 'Anglo American PLC',\n",
        "                'ABF.L' : 'Associated British Foods PLC', 'ADM.L' : 'Admiral Group PLC',\n",
        "                'AHT.L' : 'Ashtead Group PLC', 'ANTO.L' : 'Antofagasta PLC',\n",
        "                'AUTO.L' : 'Auto Trader Group PLC', 'AV.L' : 'Aviva PLC',\n",
        "                'AZN' : 'Astrazeneca PLC', 'BA.L' : 'Bae Systems PLC',\n",
        "                'BARC.L' : 'Barclays PLC', 'BDEV.L' : 'Barratt Developments PLC',\n",
        "                'BME.L' : 'B&M European Value Retail S.A.', 'BP' : 'BP PLC',\n",
        "                'III.L' : '3I Group PLC'}\n",
        "\n",
        "  top15df['COMPANY NAME'] = top15df.apply(lambda row: companynames[row['COMPANY CODE']], axis=1)\n",
        "\n",
        "\n",
        "  #Removing the Null and NaN values in the dataframe\n",
        "  top15df = top15df.dropna()\n",
        "\n",
        "  #Printing the  merged dataframe and the shape\n",
        "  print('The shape of the merged dataframe is : ', top15df.shape)\n",
        "  print('\\n The merged dataframe is : ')\n",
        "  print(top15df.head())\n",
        "\n",
        "\n",
        "  #Saving the merged csv file back to the folder\n",
        "  top15df.to_csv('/content/drive/My Drive/Final Project/FTSECOMPANIES/mergeddata.csv')\n",
        "\n",
        "#Calling the function merge_data\n",
        "merge_data(directory)"
      ],
      "metadata": {
        "colab": {
          "base_uri": "https://localhost:8080/"
        },
        "id": "rKCGjpjeGNSC",
        "outputId": "49349e60-1ca8-4516-a923-aac6217daad1"
      },
      "execution_count": null,
      "outputs": [
        {
          "output_type": "stream",
          "name": "stdout",
          "text": [
            "The shape of the merged dataframe is :  (77708, 13)\n",
            "\n",
            " The merged dataframe is : \n",
            "          Date       Open       High        Low      Close  Adj Close  \\\n",
            "50  2019-09-10  57.849998  60.025002  57.049999  57.500000  45.903336   \n",
            "51  2019-09-11  58.000000  59.490002  55.000000  55.799999  44.546192   \n",
            "52  2019-09-12  55.950001  57.099998  55.049999  55.500000  44.306694   \n",
            "53  2019-09-13  54.500000  57.200001  54.049999  55.000000  43.907536   \n",
            "54  2019-09-16  55.500000  57.000000  53.150002  55.200001  44.067207   \n",
            "\n",
            "       Volume COMPANY CODE    MA_50     MA_200  Daily Returns  Volatility  \\\n",
            "50  1028861.0        AAF.L  68.3994  68.450392      -0.051937    0.013417   \n",
            "51  2098293.0        AAF.L  68.0754  68.207115      -0.029565    0.013627   \n",
            "52  1172569.0        AAF.L  67.7434  67.967358      -0.005376    0.013596   \n",
            "53   469828.0        AAF.L  67.3954  67.727222      -0.009009    0.013539   \n",
            "54  1749072.0        AAF.L  67.0334  67.499455       0.003636    0.013359   \n",
            "\n",
            "         COMPANY NAME  \n",
            "50  Airtel Africa PLC  \n",
            "51  Airtel Africa PLC  \n",
            "52  Airtel Africa PLC  \n",
            "53  Airtel Africa PLC  \n",
            "54  Airtel Africa PLC  \n"
          ]
        }
      ]
    },
    {
      "cell_type": "markdown",
      "source": [],
      "metadata": {
        "id": "OVNELsWMBz_z"
      }
    }
  ]
}